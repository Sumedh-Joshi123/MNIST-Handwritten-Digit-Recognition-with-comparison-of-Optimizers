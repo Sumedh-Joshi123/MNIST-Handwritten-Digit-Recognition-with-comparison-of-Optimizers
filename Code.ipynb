{
  "nbformat": 4,
  "nbformat_minor": 0,
  "metadata": {
    "colab": {
      "name": "CSE:598_MiniProject_1.ipynb",
      "provenance": [],
      "collapsed_sections": []
    },
    "kernelspec": {
      "name": "python3",
      "display_name": "Python 3"
    },
    "language_info": {
      "name": "python"
    }
  },
  "cells": [
    {
      "cell_type": "markdown",
      "source": [
        "Title: Digit Recognition on MNIST Dataset and Comparison of Models with various Optimizers.\n",
        "\n",
        "Sumedh Shridhar Joshi"
      ],
      "metadata": {
        "id": "4oiLioA79utt"
      }
    },
    {
      "cell_type": "markdown",
      "source": [
        "In this project I will be using Tensorflow, keras, numpy and a few other libraries. The dataset used (MINST) is readily available in the keras library. "
      ],
      "metadata": {
        "id": "I9ByzUbu-idc"
      }
    },
    {
      "cell_type": "code",
      "execution_count": 1,
      "metadata": {
        "id": "if71ARb19cfy"
      },
      "outputs": [],
      "source": [
        "# Importing libraries \n",
        "import numpy as np\n",
        "import matplotlib.pyplot as plt\n",
        "import tensorflow as tf\n",
        "from tensorflow import keras"
      ]
    },
    {
      "cell_type": "code",
      "source": [
        "# Loading the dataset\n",
        "(x_train, y_train), (x_test, y_test) = keras.datasets.mnist.load_data()"
      ],
      "metadata": {
        "id": "V6R2xsQU_46i"
      },
      "execution_count": 2,
      "outputs": []
    },
    {
      "cell_type": "code",
      "source": [
        "# Shape of Image\n",
        "x_train[0].shape"
      ],
      "metadata": {
        "colab": {
          "base_uri": "https://localhost:8080/"
        },
        "id": "uG-yP9zYCxIJ",
        "outputId": "73e94911-8771-4983-f036-39ed5b3d1ffc"
      },
      "execution_count": 3,
      "outputs": [
        {
          "output_type": "execute_result",
          "data": {
            "text/plain": [
              "(28, 28)"
            ]
          },
          "metadata": {},
          "execution_count": 3
        }
      ]
    },
    {
      "cell_type": "code",
      "source": [
        "plt.matshow(x_train[0])\n",
        "print(\"Actual Value: \",y_train[0])"
      ],
      "metadata": {
        "colab": {
          "base_uri": "https://localhost:8080/",
          "height": 292
        },
        "id": "9bKcl2_MAY22",
        "outputId": "a72df7b5-443d-4366-951e-e600d1c821bb"
      },
      "execution_count": 4,
      "outputs": [
        {
          "output_type": "stream",
          "name": "stdout",
          "text": [
            "Actual Value:  5\n"
          ]
        },
        {
          "output_type": "display_data",
          "data": {
            "text/plain": [
              "<Figure size 288x288 with 1 Axes>"
            ],
            "image/png": "[encoded data removed]"
          },
          "metadata": {
            "needs_background": "light"
          }
        }
      ]
    },
    {
      "cell_type": "code",
      "source": [
        "# Creating a Simple Neural Network with no. of input neurons being 28*28\n",
        "model_1 = keras.Sequential([\n",
        "    keras.layers.Flatten(input_shape=(28,28)),\n",
        "    keras.layers.Dense(10,activation='sigmoid')])\n",
        "\n",
        "model_1.compile(optimizer='adam',\n",
        "                loss='sparse_categorical_crossentropy',\n",
        "                metrics=['accuracy']\n",
        "                )\n",
        "\n",
        "model_1.fit(x_train, y_train, epochs=5)"
      ],
      "metadata": {
        "colab": {
          "base_uri": "https://localhost:8080/"
        },
        "id": "a2yQllkgAY4A",
        "outputId": "5d3a3cd7-a913-4364-d29f-e7337c621ed1"
      },
      "execution_count": 5,
      "outputs": [
        {
          "output_type": "stream",
          "name": "stdout",
          "text": [
            "Epoch 1/5\n",
            "1875/1875 [==============================] - 7s 3ms/step - loss: 9.8851 - accuracy: 0.8396\n",
            "Epoch 2/5\n",
            "1875/1875 [==============================] - 5s 3ms/step - loss: 6.0024 - accuracy: 0.8804\n",
            "Epoch 3/5\n",
            "1875/1875 [==============================] - 5s 3ms/step - loss: 5.6523 - accuracy: 0.8833\n",
            "Epoch 4/5\n",
            "1875/1875 [==============================] - 3s 2ms/step - loss: 5.4909 - accuracy: 0.8844\n",
            "Epoch 5/5\n",
            "1875/1875 [==============================] - 3s 2ms/step - loss: 5.3964 - accuracy: 0.8874\n"
          ]
        },
        {
          "output_type": "execute_result",
          "data": {
            "text/plain": [
              "<keras.callbacks.History at 0x7fc318d0f910>"
            ]
          },
          "metadata": {},
          "execution_count": 5
        }
      ]
    },
    {
      "cell_type": "code",
      "source": [
        "# List of all Accuracies and Losses\n",
        "Loss =[]\n",
        "Accuracy=[]\n",
        "Models = []\n",
        "Loss.append(model_1.evaluate(x_test,y_test)[0])\n",
        "Accuracy.append(model_1.evaluate(x_test, y_test)[1])\n",
        "Models.append('model_1')"
      ],
      "metadata": {
        "colab": {
          "base_uri": "https://localhost:8080/"
        },
        "id": "hF4OUMiCAY8X",
        "outputId": "1e17a7ff-bf29-4abf-cf7d-b929cb78e269"
      },
      "execution_count": 6,
      "outputs": [
        {
          "output_type": "stream",
          "name": "stdout",
          "text": [
            "313/313 [==============================] - 1s 1ms/step - loss: 5.2623 - accuracy: 0.9023\n",
            "313/313 [==============================] - 0s 1ms/step - loss: 5.2623 - accuracy: 0.9023\n"
          ]
        }
      ]
    },
    {
      "cell_type": "markdown",
      "source": [
        "The above training data has not been scaled. If we scale the above data we have high chances of getting greater accuracy. "
      ],
      "metadata": {
        "id": "s8y-oBd4Fy7w"
      }
    },
    {
      "cell_type": "code",
      "source": [
        "# Scaling by dividing the values in matrix with 255. Since 255 is the max value a grayscale pixle can have this scaling will bring all the values between 0 and 1.\n",
        "x_train = x_train/255\n",
        "x_test = x_test/255"
      ],
      "metadata": {
        "id": "_QaFE6kIFoxb"
      },
      "execution_count": 7,
      "outputs": []
    },
    {
      "cell_type": "code",
      "source": [
        "from tensorflow.python import metrics\n",
        "model_2 = keras.Sequential([\n",
        "    keras.layers.Flatten(input_shape=(28,28)),\n",
        "    keras.layers.Dense(10,activation='sigmoid')])\n",
        "\n",
        "model_2.compile(optimizer='adam',\n",
        "                loss='sparse_categorical_crossentropy',\n",
        "                metrics=['accuracy'])\n",
        "\n",
        "model_2.fit(x_train, y_train, epochs=5)"
      ],
      "metadata": {
        "colab": {
          "base_uri": "https://localhost:8080/"
        },
        "id": "snPm5DAyGirM",
        "outputId": "8faaa5a2-21f2-455e-99cc-f399d40fe3ff"
      },
      "execution_count": 8,
      "outputs": [
        {
          "output_type": "stream",
          "name": "stdout",
          "text": [
            "Epoch 1/5\n",
            "1875/1875 [==============================] - 3s 2ms/step - loss: 0.4675 - accuracy: 0.8772\n",
            "Epoch 2/5\n",
            "1875/1875 [==============================] - 3s 2ms/step - loss: 0.3037 - accuracy: 0.9153\n",
            "Epoch 3/5\n",
            "1875/1875 [==============================] - 3s 2ms/step - loss: 0.2832 - accuracy: 0.9201\n",
            "Epoch 4/5\n",
            "1875/1875 [==============================] - 3s 2ms/step - loss: 0.2732 - accuracy: 0.9240\n",
            "Epoch 5/5\n",
            "1875/1875 [==============================] - 3s 2ms/step - loss: 0.2667 - accuracy: 0.9252\n"
          ]
        },
        {
          "output_type": "execute_result",
          "data": {
            "text/plain": [
              "<keras.callbacks.History at 0x7fc318c51b50>"
            ]
          },
          "metadata": {},
          "execution_count": 8
        }
      ]
    },
    {
      "cell_type": "code",
      "source": [
        "Loss.append(model_2.evaluate(x_test,y_test)[0])\n",
        "Accuracy.append(model_2.evaluate(x_test,y_test)[1])\n",
        "Models.append('model_2')"
      ],
      "metadata": {
        "colab": {
          "base_uri": "https://localhost:8080/"
        },
        "id": "n_z20rqhHpFc",
        "outputId": "7cb26cda-86df-47d5-eab9-362c7c6eb7c8"
      },
      "execution_count": 9,
      "outputs": [
        {
          "output_type": "stream",
          "name": "stdout",
          "text": [
            "313/313 [==============================] - 1s 1ms/step - loss: 0.2689 - accuracy: 0.9256\n",
            "313/313 [==============================] - 0s 1ms/step - loss: 0.2689 - accuracy: 0.9256\n"
          ]
        }
      ]
    },
    {
      "cell_type": "markdown",
      "source": [
        "Now, I will add a Hidden Layer to the existing network and see if it further increases the accuracy. "
      ],
      "metadata": {
        "id": "PZ7PmrgzIKnC"
      }
    },
    {
      "cell_type": "code",
      "source": [
        "adam_model = keras.Sequential([\n",
        "    keras.layers.Flatten(input_shape=(28,28)),\n",
        "    keras.layers.Dense(250, activation='relu'),\n",
        "    keras.layers.Dense(10,activation='sigmoid')])\n",
        "\n",
        "adam_model.compile(optimizer = 'Adam',\n",
        "                loss='sparse_categorical_crossentropy',\n",
        "                metrics=['accuracy'])\n",
        "\n",
        "adam_model.fit(x_train, y_train, epochs=8)"
      ],
      "metadata": {
        "colab": {
          "base_uri": "https://localhost:8080/"
        },
        "id": "EEg6_qIXH02e",
        "outputId": "970f83dc-e27e-47cf-edae-4bf2a60cca09"
      },
      "execution_count": 10,
      "outputs": [
        {
          "output_type": "stream",
          "name": "stdout",
          "text": [
            "Epoch 1/8\n",
            "1875/1875 [==============================] - 6s 3ms/step - loss: 0.2314 - accuracy: 0.9329\n",
            "Epoch 2/8\n",
            "1875/1875 [==============================] - 5s 3ms/step - loss: 0.0943 - accuracy: 0.9717\n",
            "Epoch 3/8\n",
            "1875/1875 [==============================] - 5s 3ms/step - loss: 0.0622 - accuracy: 0.9808\n",
            "Epoch 4/8\n",
            "1875/1875 [==============================] - 5s 3ms/step - loss: 0.0452 - accuracy: 0.9860\n",
            "Epoch 5/8\n",
            "1875/1875 [==============================] - 6s 3ms/step - loss: 0.0319 - accuracy: 0.9901\n",
            "Epoch 6/8\n",
            "1875/1875 [==============================] - 5s 3ms/step - loss: 0.0262 - accuracy: 0.9913\n",
            "Epoch 7/8\n",
            "1875/1875 [==============================] - 6s 3ms/step - loss: 0.0194 - accuracy: 0.9939\n",
            "Epoch 8/8\n",
            "1875/1875 [==============================] - 5s 3ms/step - loss: 0.0166 - accuracy: 0.9946\n"
          ]
        },
        {
          "output_type": "execute_result",
          "data": {
            "text/plain": [
              "<keras.callbacks.History at 0x7fc3174a98d0>"
            ]
          },
          "metadata": {},
          "execution_count": 10
        }
      ]
    },
    {
      "cell_type": "code",
      "source": [
        "Loss.append(adam_model.evaluate(x_test,y_test)[0])\n",
        "Accuracy.append(adam_model.evaluate(x_test,y_test)[1])\n",
        "Models.append('adam_model')"
      ],
      "metadata": {
        "colab": {
          "base_uri": "https://localhost:8080/"
        },
        "id": "kAHdjRUgJuRq",
        "outputId": "f34ed686-461d-4b2b-af6f-5b5b2d35edce"
      },
      "execution_count": 11,
      "outputs": [
        {
          "output_type": "stream",
          "name": "stdout",
          "text": [
            "313/313 [==============================] - 1s 2ms/step - loss: 0.0706 - accuracy: 0.9805\n",
            "313/313 [==============================] - 1s 2ms/step - loss: 0.0706 - accuracy: 0.9805\n"
          ]
        }
      ]
    },
    {
      "cell_type": "markdown",
      "source": [
        "From this point onwards I will keep the structure and epochs of neural network constant and only vary the optimizers."
      ],
      "metadata": {
        "id": "6HuosIQZL0NU"
      }
    },
    {
      "cell_type": "markdown",
      "source": [
        "# **Adadelta Optimizer**"
      ],
      "metadata": {
        "id": "OAYSAM_PT7Yy"
      }
    },
    {
      "cell_type": "code",
      "source": [
        "adadelta_model = keras.Sequential([\n",
        "    keras.layers.Flatten(input_shape=(28,28)),\n",
        "    keras.layers.Dense(250,activation='relu'),\n",
        "    keras.layers.Dense(10,activation='sigmoid')])\n",
        "\n",
        "adadelta_model.compile(optimizer='Adadelta',\n",
        "                loss='sparse_categorical_crossentropy',\n",
        "                metrics=['accuracy'])\n",
        "\n",
        "adadelta_model.fit(x_train, y_train, epochs=8)"
      ],
      "metadata": {
        "colab": {
          "base_uri": "https://localhost:8080/"
        },
        "id": "KvoFLOvWKSZM",
        "outputId": "c03e003c-6f53-421a-bc8f-2d6786ab2fbc"
      },
      "execution_count": 12,
      "outputs": [
        {
          "output_type": "stream",
          "name": "stdout",
          "text": [
            "Epoch 1/8\n",
            "1875/1875 [==============================] - 6s 3ms/step - loss: 2.1893 - accuracy: 0.1948\n",
            "Epoch 2/8\n",
            "1875/1875 [==============================] - 5s 3ms/step - loss: 1.9476 - accuracy: 0.4636\n",
            "Epoch 3/8\n",
            "1875/1875 [==============================] - 6s 3ms/step - loss: 1.7361 - accuracy: 0.6479\n",
            "Epoch 4/8\n",
            "1875/1875 [==============================] - 5s 3ms/step - loss: 1.5479 - accuracy: 0.7232\n",
            "Epoch 5/8\n",
            "1875/1875 [==============================] - 6s 3ms/step - loss: 1.3825 - accuracy: 0.7593\n",
            "Epoch 6/8\n",
            "1875/1875 [==============================] - 6s 3ms/step - loss: 1.2408 - accuracy: 0.7788\n",
            "Epoch 7/8\n",
            "1875/1875 [==============================] - 6s 3ms/step - loss: 1.1218 - accuracy: 0.7950\n",
            "Epoch 8/8\n",
            "1875/1875 [==============================] - 6s 3ms/step - loss: 1.0229 - accuracy: 0.8072\n"
          ]
        },
        {
          "output_type": "execute_result",
          "data": {
            "text/plain": [
              "<keras.callbacks.History at 0x7fc3189d5210>"
            ]
          },
          "metadata": {},
          "execution_count": 12
        }
      ]
    },
    {
      "cell_type": "code",
      "source": [
        "Loss.append(adadelta_model.evaluate(x_test,y_test)[0])\n",
        "Accuracy.append(adadelta_model.evaluate(x_test, y_test)[1])\n",
        "Models.append('adadelta_model')"
      ],
      "metadata": {
        "colab": {
          "base_uri": "https://localhost:8080/"
        },
        "id": "QT4TjL0eTVoI",
        "outputId": "f8091f6c-df0e-41b2-d3b9-a2652aa80537"
      },
      "execution_count": 13,
      "outputs": [
        {
          "output_type": "stream",
          "name": "stdout",
          "text": [
            "313/313 [==============================] - 1s 2ms/step - loss: 0.9597 - accuracy: 0.8206\n",
            "313/313 [==============================] - 1s 2ms/step - loss: 0.9597 - accuracy: 0.8206\n"
          ]
        }
      ]
    },
    {
      "cell_type": "markdown",
      "source": [
        "# **Adagrad Optimizer**"
      ],
      "metadata": {
        "id": "9pDxmJDZUMcS"
      }
    },
    {
      "cell_type": "code",
      "source": [
        "adagrad_model = keras.Sequential([\n",
        "    keras.layers.Flatten(input_shape=(28,28)),\n",
        "    keras.layers.Dense(250, activation='relu'),\n",
        "    keras.layers.Dense(10, activation='sigmoid')])\n",
        "\n",
        "adagrad_model.compile(optimizer='Adagrad',\n",
        "                loss='sparse_categorical_crossentropy',\n",
        "                metrics=['accuracy'])\n",
        "\n",
        "adagrad_model.fit(x_train, y_train, epochs=8)"
      ],
      "metadata": {
        "colab": {
          "base_uri": "https://localhost:8080/"
        },
        "id": "ccKHlOCcT14D",
        "outputId": "187d9270-e4af-4f68-8ff8-102f4748fc1a"
      },
      "execution_count": 14,
      "outputs": [
        {
          "output_type": "stream",
          "name": "stdout",
          "text": [
            "Epoch 1/8\n",
            "1875/1875 [==============================] - 6s 3ms/step - loss: 1.0993 - accuracy: 0.7515\n",
            "Epoch 2/8\n",
            "1875/1875 [==============================] - 5s 3ms/step - loss: 0.5613 - accuracy: 0.8672\n",
            "Epoch 3/8\n",
            "1875/1875 [==============================] - 5s 3ms/step - loss: 0.4600 - accuracy: 0.8844\n",
            "Epoch 4/8\n",
            "1875/1875 [==============================] - 6s 3ms/step - loss: 0.4129 - accuracy: 0.8925\n",
            "Epoch 5/8\n",
            "1875/1875 [==============================] - 5s 3ms/step - loss: 0.3840 - accuracy: 0.8984\n",
            "Epoch 6/8\n",
            "1875/1875 [==============================] - 5s 3ms/step - loss: 0.3636 - accuracy: 0.9033\n",
            "Epoch 7/8\n",
            "1875/1875 [==============================] - 5s 3ms/step - loss: 0.3480 - accuracy: 0.9065\n",
            "Epoch 8/8\n",
            "1875/1875 [==============================] - 5s 3ms/step - loss: 0.3355 - accuracy: 0.9098\n"
          ]
        },
        {
          "output_type": "execute_result",
          "data": {
            "text/plain": [
              "<keras.callbacks.History at 0x7fc318b30d10>"
            ]
          },
          "metadata": {},
          "execution_count": 14
        }
      ]
    },
    {
      "cell_type": "code",
      "source": [
        "Loss.append(adagrad_model.evaluate(x_test,y_test)[0])\n",
        "Accuracy.append(adagrad_model.evaluate(x_test, y_test)[1])\n",
        "Models.append('adagrad_model')"
      ],
      "metadata": {
        "colab": {
          "base_uri": "https://localhost:8080/"
        },
        "id": "bSTTAdS5VtIJ",
        "outputId": "714beb25-7a3f-4011-b3ec-2b5b71cf3aae"
      },
      "execution_count": 15,
      "outputs": [
        {
          "output_type": "stream",
          "name": "stdout",
          "text": [
            "313/313 [==============================] - 1s 2ms/step - loss: 0.3151 - accuracy: 0.9150\n",
            "313/313 [==============================] - 1s 2ms/step - loss: 0.3151 - accuracy: 0.9150\n"
          ]
        }
      ]
    },
    {
      "cell_type": "markdown",
      "source": [
        "# **Adamax Optimizer**"
      ],
      "metadata": {
        "id": "yBlTHBRNWIsF"
      }
    },
    {
      "cell_type": "code",
      "source": [
        "adamax_model = keras.Sequential([\n",
        "    keras.layers.Flatten(input_shape=(28,28)),\n",
        "    keras.layers.Dense(250, activation='relu'),\n",
        "    keras.layers.Dense(10, activation='sigmoid')])\n",
        "\n",
        "adamax_model.compile(optimizer='Adagrad',\n",
        "                loss='sparse_categorical_crossentropy',\n",
        "                metrics=['accuracy'])\n",
        "\n",
        "adamax_model.fit(x_train, y_train, epochs=8)"
      ],
      "metadata": {
        "colab": {
          "base_uri": "https://localhost:8080/"
        },
        "id": "kMPSizc0V_bB",
        "outputId": "43b718e4-3cde-4802-8e79-d43252ed3dbc"
      },
      "execution_count": 16,
      "outputs": [
        {
          "output_type": "stream",
          "name": "stdout",
          "text": [
            "Epoch 1/8\n",
            "1875/1875 [==============================] - 5s 3ms/step - loss: 1.1024 - accuracy: 0.7585\n",
            "Epoch 2/8\n",
            "1875/1875 [==============================] - 5s 3ms/step - loss: 0.5607 - accuracy: 0.8691\n",
            "Epoch 3/8\n",
            "1875/1875 [==============================] - 5s 3ms/step - loss: 0.4585 - accuracy: 0.8848\n",
            "Epoch 4/8\n",
            "1875/1875 [==============================] - 5s 3ms/step - loss: 0.4112 - accuracy: 0.8929\n",
            "Epoch 5/8\n",
            "1875/1875 [==============================] - 5s 3ms/step - loss: 0.3822 - accuracy: 0.8985\n",
            "Epoch 6/8\n",
            "1875/1875 [==============================] - 6s 3ms/step - loss: 0.3620 - accuracy: 0.9027\n",
            "Epoch 7/8\n",
            "1875/1875 [==============================] - 5s 3ms/step - loss: 0.3466 - accuracy: 0.9062\n",
            "Epoch 8/8\n",
            "1875/1875 [==============================] - 5s 3ms/step - loss: 0.3343 - accuracy: 0.9089\n"
          ]
        },
        {
          "output_type": "execute_result",
          "data": {
            "text/plain": [
              "<keras.callbacks.History at 0x7fc3187ac510>"
            ]
          },
          "metadata": {},
          "execution_count": 16
        }
      ]
    },
    {
      "cell_type": "code",
      "source": [
        "Loss.append(adamax_model.evaluate(x_test,y_test)[0])\n",
        "Accuracy.append(adamax_model.evaluate(x_test,y_test)[1])\n",
        "Models.append('adamax_model')"
      ],
      "metadata": {
        "colab": {
          "base_uri": "https://localhost:8080/"
        },
        "id": "E-15VaxBXi2l",
        "outputId": "9e0c9586-3f68-457c-ab6a-c832f7a5b41b"
      },
      "execution_count": 17,
      "outputs": [
        {
          "output_type": "stream",
          "name": "stdout",
          "text": [
            "313/313 [==============================] - 1s 2ms/step - loss: 0.3146 - accuracy: 0.9154\n",
            "313/313 [==============================] - 1s 2ms/step - loss: 0.3146 - accuracy: 0.9154\n"
          ]
        }
      ]
    },
    {
      "cell_type": "markdown",
      "source": [
        "# **Nadam Optimizer**"
      ],
      "metadata": {
        "id": "AEs0KFPFX9U3"
      }
    },
    {
      "cell_type": "code",
      "source": [
        "nadam_model = keras.Sequential([\n",
        "    keras.layers.Flatten(input_shape=(28,28)),\n",
        "    keras.layers.Dense(250, activation='relu'),\n",
        "    keras.layers.Dense(10, activation='sigmoid')])\n",
        "\n",
        "nadam_model.compile(optimizer='Nadam',\n",
        "                loss='sparse_categorical_crossentropy',\n",
        "                metrics=['accuracy'])\n",
        "\n",
        "nadam_model.fit(x_train, y_train, epochs=8)"
      ],
      "metadata": {
        "colab": {
          "base_uri": "https://localhost:8080/"
        },
        "id": "EPzwU2YbX7CB",
        "outputId": "61f72901-7080-4734-ee80-db0ad75a73f5"
      },
      "execution_count": 18,
      "outputs": [
        {
          "output_type": "stream",
          "name": "stdout",
          "text": [
            "Epoch 1/8\n",
            "1875/1875 [==============================] - 10s 5ms/step - loss: 0.2275 - accuracy: 0.9355\n",
            "Epoch 2/8\n",
            "1875/1875 [==============================] - 9s 5ms/step - loss: 0.0950 - accuracy: 0.9716\n",
            "Epoch 3/8\n",
            "1875/1875 [==============================] - 9s 5ms/step - loss: 0.0621 - accuracy: 0.9811\n",
            "Epoch 4/8\n",
            "1875/1875 [==============================] - 9s 5ms/step - loss: 0.0450 - accuracy: 0.9861\n",
            "Epoch 5/8\n",
            "1875/1875 [==============================] - 9s 5ms/step - loss: 0.0333 - accuracy: 0.9894\n",
            "Epoch 6/8\n",
            "1875/1875 [==============================] - 10s 5ms/step - loss: 0.0249 - accuracy: 0.9920\n",
            "Epoch 7/8\n",
            "1875/1875 [==============================] - 9s 5ms/step - loss: 0.0203 - accuracy: 0.9935\n",
            "Epoch 8/8\n",
            "1875/1875 [==============================] - 9s 5ms/step - loss: 0.0160 - accuracy: 0.9947\n"
          ]
        },
        {
          "output_type": "execute_result",
          "data": {
            "text/plain": [
              "<keras.callbacks.History at 0x7fc318612250>"
            ]
          },
          "metadata": {},
          "execution_count": 18
        }
      ]
    },
    {
      "cell_type": "code",
      "source": [
        "Loss.append(nadam_model.evaluate(x_test,y_test)[0])\n",
        "Accuracy.append(nadam_model.evaluate(x_test, y_test)[1])\n",
        "Models.append('nadam_model')"
      ],
      "metadata": {
        "colab": {
          "base_uri": "https://localhost:8080/"
        },
        "id": "rQ48ft3fYMzu",
        "outputId": "6ce90213-ed0e-4090-cf6d-e40b4845d811"
      },
      "execution_count": 19,
      "outputs": [
        {
          "output_type": "stream",
          "name": "stdout",
          "text": [
            "313/313 [==============================] - 1s 2ms/step - loss: 0.0756 - accuracy: 0.9796\n",
            "313/313 [==============================] - 1s 2ms/step - loss: 0.0756 - accuracy: 0.9796\n"
          ]
        }
      ]
    },
    {
      "cell_type": "markdown",
      "source": [
        "# **Ftrl Optimizer**"
      ],
      "metadata": {
        "id": "rnJbMPQzZUdN"
      }
    },
    {
      "cell_type": "code",
      "source": [
        "ftrl_model = keras.Sequential([\n",
        "    keras.layers.Flatten(input_shape=(28,28)),\n",
        "    keras.layers.Dense(250, activation='relu'),\n",
        "    keras.layers.Dense(10, activation='sigmoid')])\n",
        "\n",
        "ftrl_model.compile(optimizer='Ftrl',\n",
        "                loss='sparse_categorical_crossentropy',\n",
        "                metrics=['accuracy'])\n",
        "\n",
        "ftrl_model.fit(x_train, y_train, epochs=8)"
      ],
      "metadata": {
        "colab": {
          "base_uri": "https://localhost:8080/"
        },
        "id": "rJowKpsSZZTQ",
        "outputId": "444d4578-b349-4c88-d157-88f90b1ca859"
      },
      "execution_count": 20,
      "outputs": [
        {
          "output_type": "stream",
          "name": "stdout",
          "text": [
            "Epoch 1/8\n",
            "1875/1875 [==============================] - 7s 4ms/step - loss: 2.3021 - accuracy: 0.1121\n",
            "Epoch 2/8\n",
            "1875/1875 [==============================] - 8s 4ms/step - loss: 2.2614 - accuracy: 0.2385\n",
            "Epoch 3/8\n",
            "1875/1875 [==============================] - 9s 5ms/step - loss: 1.8315 - accuracy: 0.4380\n",
            "Epoch 4/8\n",
            "1875/1875 [==============================] - 7s 4ms/step - loss: 1.2451 - accuracy: 0.6643\n",
            "Epoch 5/8\n",
            "1875/1875 [==============================] - 7s 4ms/step - loss: 0.9518 - accuracy: 0.7395\n",
            "Epoch 6/8\n",
            "1875/1875 [==============================] - 7s 4ms/step - loss: 0.7978 - accuracy: 0.7817\n",
            "Epoch 7/8\n",
            "1875/1875 [==============================] - 7s 4ms/step - loss: 0.6993 - accuracy: 0.8088\n",
            "Epoch 8/8\n",
            "1875/1875 [==============================] - 7s 4ms/step - loss: 0.6316 - accuracy: 0.8279\n"
          ]
        },
        {
          "output_type": "execute_result",
          "data": {
            "text/plain": [
              "<keras.callbacks.History at 0x7fc310550ed0>"
            ]
          },
          "metadata": {},
          "execution_count": 20
        }
      ]
    },
    {
      "cell_type": "code",
      "source": [
        "Loss.append(ftrl_model.evaluate(x_test,y_test)[0])\n",
        "Accuracy.append(ftrl_model.evaluate(x_test,y_test)[1])\n",
        "Models.append('ftrl_model')"
      ],
      "metadata": {
        "colab": {
          "base_uri": "https://localhost:8080/"
        },
        "id": "7Hw2cPf4ZoFu",
        "outputId": "766d8e30-c3ae-45e4-db01-04cd860e98b4"
      },
      "execution_count": 21,
      "outputs": [
        {
          "output_type": "stream",
          "name": "stdout",
          "text": [
            "313/313 [==============================] - 1s 2ms/step - loss: 0.5866 - accuracy: 0.8396\n",
            "313/313 [==============================] - 1s 2ms/step - loss: 0.5866 - accuracy: 0.8396\n"
          ]
        }
      ]
    },
    {
      "cell_type": "markdown",
      "source": [
        "# **RMSprop Optimizer**"
      ],
      "metadata": {
        "id": "hPzXJXIYZ8na"
      }
    },
    {
      "cell_type": "code",
      "source": [
        "rmsprop_model = keras.Sequential([\n",
        "    keras.layers.Flatten(input_shape=(28,28)),\n",
        "    keras.layers.Dense(250, activation='relu'),\n",
        "    keras.layers.Dense(10, activation='sigmoid')])\n",
        "\n",
        "rmsprop_model.compile(optimizer='RMSprop',\n",
        "                loss='sparse_categorical_crossentropy',\n",
        "                metrics=['accuracy'])\n",
        "\n",
        "rmsprop_model.fit(x_train, y_train, epochs=8)"
      ],
      "metadata": {
        "colab": {
          "base_uri": "https://localhost:8080/"
        },
        "id": "PbJ-biyoaGvm",
        "outputId": "f009868a-6e45-4652-e0cd-1ab724ba08fa"
      },
      "execution_count": 22,
      "outputs": [
        {
          "output_type": "stream",
          "name": "stdout",
          "text": [
            "Epoch 1/8\n",
            "1875/1875 [==============================] - 7s 4ms/step - loss: 0.2247 - accuracy: 0.9345\n",
            "Epoch 2/8\n",
            "1875/1875 [==============================] - 7s 4ms/step - loss: 0.0999 - accuracy: 0.9711\n",
            "Epoch 3/8\n",
            "1875/1875 [==============================] - 7s 4ms/step - loss: 0.0734 - accuracy: 0.9791\n",
            "Epoch 4/8\n",
            "1875/1875 [==============================] - 7s 4ms/step - loss: 0.0579 - accuracy: 0.9836\n",
            "Epoch 5/8\n",
            "1875/1875 [==============================] - 7s 4ms/step - loss: 0.0481 - accuracy: 0.9869\n",
            "Epoch 6/8\n",
            "1875/1875 [==============================] - 7s 4ms/step - loss: 0.0393 - accuracy: 0.9896\n",
            "Epoch 7/8\n",
            "1875/1875 [==============================] - 7s 4ms/step - loss: 0.0333 - accuracy: 0.9909\n",
            "Epoch 8/8\n",
            "1875/1875 [==============================] - 7s 4ms/step - loss: 0.0286 - accuracy: 0.9922\n"
          ]
        },
        {
          "output_type": "execute_result",
          "data": {
            "text/plain": [
              "<keras.callbacks.History at 0x7fc318cb1fd0>"
            ]
          },
          "metadata": {},
          "execution_count": 22
        }
      ]
    },
    {
      "cell_type": "code",
      "source": [
        "Loss.append(rmsprop_model.evaluate(x_test,y_test)[0])\n",
        "Accuracy.append(rmsprop_model.evaluate(x_test,y_test)[1])\n",
        "Models.append('rmsprop_model')"
      ],
      "metadata": {
        "colab": {
          "base_uri": "https://localhost:8080/"
        },
        "id": "li7ORm-GaWE9",
        "outputId": "87ff9c70-4a4a-46f9-af6a-17706e814075"
      },
      "execution_count": 23,
      "outputs": [
        {
          "output_type": "stream",
          "name": "stdout",
          "text": [
            "313/313 [==============================] - 1s 2ms/step - loss: 0.0955 - accuracy: 0.9789\n",
            "313/313 [==============================] - 1s 2ms/step - loss: 0.0955 - accuracy: 0.9789\n"
          ]
        }
      ]
    },
    {
      "cell_type": "markdown",
      "source": [
        "# **Final Plots to Compare Accuracy and Loss of every Model**"
      ],
      "metadata": {
        "id": "jsaSdgfthswM"
      }
    },
    {
      "cell_type": "code",
      "source": [
        "plt.figure(figsize=(12,8))\n",
        "plt.title('Accuracy of Different Models')\n",
        "plt.xlabel('Accuracies')\n",
        "plt.ylabel('Models')\n",
        "plt.barh(Models,Accuracy, height=0.5, edgecolor='black', linewidth=2)\n",
        "plt.show()"
      ],
      "metadata": {
        "colab": {
          "base_uri": "https://localhost:8080/",
          "height": 513
        },
        "id": "qc0nxotXfJBK",
        "outputId": "29b79802-4d16-4cbb-e6a0-466f4d3fc018"
      },
      "execution_count": 41,
      "outputs": [
        {
          "output_type": "display_data",
          "data": {
            "text/plain": [
              "<Figure size 864x576 with 1 Axes>"
            ],
            "image/png": "[encoded data removed]"
          },
          "metadata": {
            "needs_background": "light"
          }
        }
      ]
    },
    {
      "cell_type": "code",
      "source": [
        "plt.figure(figsize=(12,8))\n",
        "plt.title('Loss of Different Models')\n",
        "plt.xlabel('Loss')\n",
        "plt.ylabel('Models')\n",
        "plt.barh(Models,Loss, height=0.5, edgecolor='black', linewidth=2)\n",
        "plt.show()"
      ],
      "metadata": {
        "colab": {
          "base_uri": "https://localhost:8080/",
          "height": 513
        },
        "id": "9PzX8DA9ixeg",
        "outputId": "49ffabd4-f05f-4fb1-aff3-30cd6d9d0b8d"
      },
      "execution_count": 43,
      "outputs": [
        {
          "output_type": "display_data",
          "data": {
            "text/plain": [
              "<Figure size 864x576 with 1 Axes>"
            ],
            "image/png": "[encoded data removed]"
          },
          "metadata": {
            "needs_background": "light"
          }
        }
      ]
    },
    {
      "cell_type": "markdown",
      "source": [
        "Based on above graphs the adam, nadam, rmsprop show the heighest of accuracies and the lowest of the losses."
      ],
      "metadata": {
        "id": "ylWJbHWVs262"
      }
    }
  ]
}